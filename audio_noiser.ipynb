{
 "cells": [
  {
   "cell_type": "code",
   "execution_count": 16,
   "id": "41f747a6-ddf9-4de5-beed-b7ac414c3200",
   "metadata": {},
   "outputs": [
    {
     "name": "stdout",
     "output_type": "stream",
     "text": [
      "Processing complete! Combined audios with tripled noise amplitude are saved in the 'noisy_clean_test' folder.\n"
     ]
    }
   ],
   "source": [
    "import os\n",
    "from pydub import AudioSegment\n",
    "\n",
    "# Define paths\n",
    "base_path = r\"F:\\Level 3 Term 2\\DSP Project\\Data\\MS-SNSD-master\\MS-SNSD-master\"\n",
    "clean_path = os.path.join(base_path, \"clean_train\")\n",
    "noise_path = os.path.join(base_path, \"noise_train\")\n",
    "output_path = os.path.join(base_path, \"noisy_clean_train\")\n",
    "\n",
    "# Ensure the output directory exists\n",
    "os.makedirs(output_path, exist_ok=True)\n",
    "\n",
    "# Fetch audio files\n",
    "clean_files = sorted([os.path.join(clean_path, f) for f in os.listdir(clean_path) if f.endswith('.wav')])\n",
    "noise_files = sorted([os.path.join(noise_path, f) for f in os.listdir(noise_path) if f.endswith('.wav')])\n",
    "\n",
    "# Ensure the number of files match\n",
    "if len(clean_files) != 49 or len(noise_files) != 49:\n",
    "    raise ValueError(\"Both clean_test and noise_test must have exactly 49 audio files.\")\n",
    "\n",
    "# Process and merge audio\n",
    "for i, (clean_file, noise_file) in enumerate(zip(clean_files, noise_files)):\n",
    "    # Load clean and noise audio\n",
    "    clean_audio = AudioSegment.from_file(clean_file)\n",
    "    noise_audio = AudioSegment.from_file(noise_file)\n",
    "    \n",
    "    # Adjust noise to match the length of clean audio\n",
    "    if len(noise_audio) > len(clean_audio):\n",
    "        noise_audio = noise_audio[:len(clean_audio)]\n",
    "    else:\n",
    "        noise_audio = noise_audio + AudioSegment.silent(duration=(len(clean_audio) - len(noise_audio)))\n",
    "    \n",
    "    # Triple the amplitude of the noise\n",
    "    amplified_noise = noise_audio # Increase volume by 10 dB (10 dB ≈ doubling amplitude)\n",
    "    \n",
    "    # Combine clean and amplified noise audio\n",
    "    noisy_audio = clean_audio.overlay(amplified_noise)\n",
    "    \n",
    "    # Export the combined audio\n",
    "    output_file = os.path.join(output_path, f\"noisy_clean_test_{i + 1}.wav\")\n",
    "    noisy_audio.export(output_file, format=\"wav\")\n",
    "\n",
    "print(\"Processing complete! Combined audios with tripled noise amplitude are saved in the 'noisy_clean_test' folder.\")\n"
   ]
  }
 ],
 "metadata": {
  "kernelspec": {
   "display_name": "Python 3 (ipykernel)",
   "language": "python",
   "name": "python3"
  },
  "language_info": {
   "codemirror_mode": {
    "name": "ipython",
    "version": 3
   },
   "file_extension": ".py",
   "mimetype": "text/x-python",
   "name": "python",
   "nbconvert_exporter": "python",
   "pygments_lexer": "ipython3",
   "version": "3.12.4"
  }
 },
 "nbformat": 4,
 "nbformat_minor": 5
}
