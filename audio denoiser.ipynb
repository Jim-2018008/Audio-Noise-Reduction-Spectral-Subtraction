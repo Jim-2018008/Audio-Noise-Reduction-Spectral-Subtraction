{
 "cells": [
  {
   "cell_type": "code",
   "execution_count": 5,
   "id": "8bac2902-e341-4211-8eba-84b191b3360c",
   "metadata": {},
   "outputs": [
    {
     "name": "stdout",
     "output_type": "stream",
     "text": [
      "Processing test dataset...\n",
      "Processing complete! Cleaned audios saved in 'F:\\Level 3 Term 2\\DSP Project\\Data\\MS-SNSD-master\\MS-SNSD-master\\export_clean_test'.\n",
      "Processing train dataset...\n",
      "Processing complete! Cleaned audios saved in 'F:\\Level 3 Term 2\\DSP Project\\Data\\MS-SNSD-master\\MS-SNSD-master\\export_clean_train'.\n"
     ]
    }
   ],
   "source": [
    "import os\n",
    "import librosa\n",
    "import numpy as np\n",
    "import soundfile as sf\n",
    "\n",
    "# Define paths\n",
    "base_path = r\"F:\\Level 3 Term 2\\DSP Project\\Data\\MS-SNSD-master\\MS-SNSD-master\"\n",
    "datasets = {\n",
    "    \"test\": {\n",
    "        \"merged_path\": os.path.join(base_path, \"noisy_clean_test\"),\n",
    "        \"noise_path\": os.path.join(base_path, \"noise_test\"),\n",
    "        \"output_path\": os.path.join(base_path, \"export_clean_test\")\n",
    "    },\n",
    "    \"train\": {\n",
    "        \"merged_path\": os.path.join(base_path, \"noisy_clean_train\"),\n",
    "        \"noise_path\": os.path.join(base_path, \"noise_train\"),\n",
    "        \"output_path\": os.path.join(base_path, \"export_clean_train\")\n",
    "    }\n",
    "}\n",
    "\n",
    "# Ensure output directories exist\n",
    "for dataset in datasets.values():\n",
    "    os.makedirs(dataset[\"output_path\"], exist_ok=True)\n",
    "\n",
    "def spectral_subtraction(noisy_path, noise_path, output_path):\n",
    "    # List audio files\n",
    "    noisy_files = sorted([os.path.join(noisy_path, f) for f in os.listdir(noisy_path) if f.endswith('.wav')])\n",
    "    noise_files = sorted([os.path.join(noise_path, f) for f in os.listdir(noise_path) if f.endswith('.wav')])\n",
    "\n",
    "    if len(noisy_files) != len(noise_files):\n",
    "        raise ValueError(f\"Mismatch in number of files between {noisy_path} and {noise_path}.\")\n",
    "\n",
    "    for i, (noisy_file, noise_file) in enumerate(zip(noisy_files, noise_files)):\n",
    "        # Load noisy and noise audio\n",
    "        noisy_audio, sr = librosa.load(noisy_file, sr=None)\n",
    "        noise_audio, _ = librosa.load(noise_file, sr=None)\n",
    "\n",
    "        # Match the length of noise to noisy audio\n",
    "        if len(noise_audio) > len(noisy_audio):\n",
    "            noise_audio = noise_audio[:len(noisy_audio)]\n",
    "        else:\n",
    "            noise_audio = np.pad(noise_audio, (0, len(noisy_audio) - len(noise_audio)))\n",
    "\n",
    "        # Compute STFTs\n",
    "        noisy_stft = librosa.stft(noisy_audio)\n",
    "        noise_stft = librosa.stft(noise_audio)\n",
    "\n",
    "        noisy_mag, noisy_phase = librosa.magphase(noisy_stft)\n",
    "        noise_mag, _ = librosa.magphase(noise_stft)\n",
    "\n",
    "        # Ensure spectrogram shapes match\n",
    "        min_frames = min(noisy_mag.shape[1], noise_mag.shape[1])\n",
    "        noisy_mag = noisy_mag[:, :min_frames]\n",
    "        noise_mag = noise_mag[:, :min_frames]\n",
    "\n",
    "        # Spectral subtraction\n",
    "        clean_mag = np.maximum(noisy_mag - noise_mag, 0)\n",
    "\n",
    "        # Reconstruct STFT\n",
    "        clean_stft = clean_mag * noisy_phase[:, :min_frames]\n",
    "        clean_audio = librosa.istft(clean_stft)\n",
    "\n",
    "        # Save the cleaned audio\n",
    "        output_file = os.path.join(output_path, f\"clean_{i + 1}.wav\")\n",
    "        sf.write(output_file, clean_audio, sr)\n",
    "\n",
    "    print(f\"Processing complete! Cleaned audios saved in '{output_path}'.\")\n",
    "\n",
    "# Process both test and train datasets\n",
    "for dataset, paths in datasets.items():\n",
    "    print(f\"Processing {dataset} dataset...\")\n",
    "    spectral_subtraction(paths[\"merged_path\"], paths[\"noise_path\"], paths[\"output_path\"])\n"
   ]
  }
 ],
 "metadata": {
  "kernelspec": {
   "display_name": "Python 3 (ipykernel)",
   "language": "python",
   "name": "python3"
  },
  "language_info": {
   "codemirror_mode": {
    "name": "ipython",
    "version": 3
   },
   "file_extension": ".py",
   "mimetype": "text/x-python",
   "name": "python",
   "nbconvert_exporter": "python",
   "pygments_lexer": "ipython3",
   "version": "3.12.4"
  }
 },
 "nbformat": 4,
 "nbformat_minor": 5
}
